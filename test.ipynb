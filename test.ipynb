{
 "cells": [
  {
   "cell_type": "code",
   "execution_count": 1,
   "metadata": {},
   "outputs": [
    {
     "name": "stderr",
     "output_type": "stream",
     "text": [
      "2024-11-17 12:57:02.474 Python[2981:89523] WARNING: Secure coding is not enabled for restorable state! Enable secure coding by implementing NSApplicationDelegate.applicationSupportsSecureRestorableState: and returning YES.\n"
     ]
    }
   ],
   "source": [
    "%matplotlib qt"
   ]
  },
  {
   "cell_type": "code",
   "execution_count": null,
   "metadata": {},
   "outputs": [],
   "source": []
  },
  {
   "cell_type": "code",
   "execution_count": 2,
   "metadata": {},
   "outputs": [],
   "source": [
    "import slab\n",
    "import matplotlib.pyplot as plt\n",
    "import numpy as np"
   ]
  },
  {
   "cell_type": "code",
   "execution_count": 3,
   "metadata": {},
   "outputs": [],
   "source": [
    "fs = 44100\n",
    "level = 70\n",
    "\n",
    "slab.set_default_samplerate(44100)\n",
    "slab.set_default_level(70)"
   ]
  },
  {
   "cell_type": "code",
   "execution_count": 24,
   "metadata": {},
   "outputs": [],
   "source": [
    "def get_angled_sound(angle, sound, externalise):\n",
    "    \"\"\"\n",
    "        This function takes in azimuth angle and monoaural sound and returns sound with the specified angle.\n",
    "        Angle : azimuth angle. Where 0 is the center. So one posituve integer.\n",
    "        Sound : the sound on which you want to get the angled sound.\n",
    "        externalise : Boolean. If the function should externalise sound or not.\n",
    "        frequency : Frequency of the sound to calculate ITD.\n",
    "        head_size : Optional. In case you want calculate ITD specific to head sizes.\n",
    "        Returns : Two slab.Binaural instances with left and right versions of the sound.\n",
    "    \"\"\"\n",
    "\n",
    "    # calculating ITD\n",
    "    itd = sound.azimuth_to_itd(angle)\n",
    "    \n",
    "    # applying itd to sound\n",
    "    right = sound.itd(duration = itd)\n",
    "    left = sound.itd(duration = -itd)\n",
    "\n",
    "    if externalise:\n",
    "        right = right.externalize()\n",
    "        left = left.externalize()\n",
    "    \n",
    "    right.level = level\n",
    "    left.level = level\n",
    "\n",
    "    return left, right"
   ]
  },
  {
   "cell_type": "markdown",
   "metadata": {},
   "source": []
  },
  {
   "cell_type": "code",
   "execution_count": 29,
   "metadata": {},
   "outputs": [
    {
     "ename": "TypeError",
     "evalue": "get_angled_sound() missing 1 required positional argument: 'frequency'",
     "output_type": "error",
     "traceback": [
      "\u001b[0;31m---------------------------------------------------------------------------\u001b[0m",
      "\u001b[0;31mTypeError\u001b[0m                                 Traceback (most recent call last)",
      "Cell \u001b[0;32mIn[29], line 3\u001b[0m\n\u001b[1;32m      1\u001b[0m sound \u001b[38;5;241m=\u001b[39m slab\u001b[38;5;241m.\u001b[39mBinaural\u001b[38;5;241m.\u001b[39mwhitenoise(duration \u001b[38;5;241m=\u001b[39m \u001b[38;5;241m0.5\u001b[39m)\n\u001b[0;32m----> 3\u001b[0m left, right \u001b[38;5;241m=\u001b[39m \u001b[43mget_angled_sound\u001b[49m\u001b[43m(\u001b[49m\u001b[38;5;241;43m90\u001b[39;49m\u001b[43m,\u001b[49m\u001b[43m \u001b[49m\u001b[43msound\u001b[49m\u001b[43m,\u001b[49m\u001b[43m \u001b[49m\u001b[38;5;28;43;01mFalse\u001b[39;49;00m\u001b[43m)\u001b[49m\n",
      "\u001b[0;31mTypeError\u001b[0m: get_angled_sound() missing 1 required positional argument: 'frequency'"
     ]
    }
   ],
   "source": [
    "sound = slab.Binaural.whitenoise(duration = 0.5)\n",
    "\n",
    "left, right = get_angled_sound(90, sound, False)\n",
    "\n",
    "\n"
   ]
  },
  {
   "cell_type": "code",
   "execution_count": 28,
   "metadata": {},
   "outputs": [
    {
     "ename": "NameError",
     "evalue": "name 'right' is not defined",
     "output_type": "error",
     "traceback": [
      "\u001b[0;31m---------------------------------------------------------------------------\u001b[0m",
      "\u001b[0;31mNameError\u001b[0m                                 Traceback (most recent call last)",
      "Cell \u001b[0;32mIn[28], line 1\u001b[0m\n\u001b[0;32m----> 1\u001b[0m \u001b[43mright\u001b[49m\u001b[38;5;241m.\u001b[39mplay()\n\u001b[1;32m      2\u001b[0m right\u001b[38;5;241m.\u001b[39mwrite(\u001b[38;5;124m\"\u001b[39m\u001b[38;5;124mRight_WhiteNoise_90.wav\u001b[39m\u001b[38;5;124m\"\u001b[39m)\n\u001b[1;32m      3\u001b[0m right\u001b[38;5;241m.\u001b[39mwaveform()\n",
      "\u001b[0;31mNameError\u001b[0m: name 'right' is not defined"
     ]
    }
   ],
   "source": [
    "right.play()\n",
    "right.write(\"Right_WhiteNoise_90.wav\")\n",
    "right.waveform()\n",
    "\n"
   ]
  },
  {
   "cell_type": "code",
   "execution_count": 15,
   "metadata": {},
   "outputs": [
    {
     "ename": "NameError",
     "evalue": "name 'left' is not defined",
     "output_type": "error",
     "traceback": [
      "\u001b[0;31m---------------------------------------------------------------------------\u001b[0m",
      "\u001b[0;31mNameError\u001b[0m                                 Traceback (most recent call last)",
      "Cell \u001b[0;32mIn[15], line 1\u001b[0m\n\u001b[0;32m----> 1\u001b[0m \u001b[43mleft\u001b[49m\u001b[38;5;241m.\u001b[39mplay()\n\u001b[1;32m      2\u001b[0m left\u001b[38;5;241m.\u001b[39mwrite(\u001b[38;5;124m\"\u001b[39m\u001b[38;5;124mLeft_WhiteNoise_90.wav\u001b[39m\u001b[38;5;124m\"\u001b[39m)\n\u001b[1;32m      3\u001b[0m left\u001b[38;5;241m.\u001b[39mwaveform()\n",
      "\u001b[0;31mNameError\u001b[0m: name 'left' is not defined"
     ]
    }
   ],
   "source": [
    "left.play()\n",
    "left.write(\"Left_WhiteNoise_90.wav\")\n",
    "left.waveform()\n",
    "\n",
    "\n"
   ]
  },
  {
   "cell_type": "code",
   "execution_count": 23,
   "metadata": {},
   "outputs": [
    {
     "ename": "TypeError",
     "evalue": "get_angled_sound() missing 1 required positional argument: 'frequency'",
     "output_type": "error",
     "traceback": [
      "\u001b[0;31m---------------------------------------------------------------------------\u001b[0m",
      "\u001b[0;31mTypeError\u001b[0m                                 Traceback (most recent call last)",
      "Cell \u001b[0;32mIn[23], line 3\u001b[0m\n\u001b[1;32m      1\u001b[0m sound \u001b[38;5;241m=\u001b[39m slab\u001b[38;5;241m.\u001b[39mBinaural\u001b[38;5;241m.\u001b[39mwhitenoise(duration\u001b[38;5;241m=\u001b[39m\u001b[38;5;241m0.5\u001b[39m)\n\u001b[0;32m----> 3\u001b[0m left, right \u001b[38;5;241m=\u001b[39m \u001b[43mget_angled_sound\u001b[49m\u001b[43m(\u001b[49m\u001b[38;5;241;43m30\u001b[39;49m\u001b[43m,\u001b[49m\u001b[43m \u001b[49m\u001b[43msound\u001b[49m\u001b[43m,\u001b[49m\u001b[43m \u001b[49m\u001b[38;5;28;43;01mFalse\u001b[39;49;00m\u001b[43m)\u001b[49m\n",
      "\u001b[0;31mTypeError\u001b[0m: get_angled_sound() missing 1 required positional argument: 'frequency'"
     ]
    }
   ],
   "source": [
    "sound = slab.Binaural.whitenoise(duration=0.5)\n",
    "\n",
    "left, right = get_angled_sound(30, sound, False)\n",
    "\n"
   ]
  },
  {
   "cell_type": "code",
   "execution_count": 14,
   "metadata": {},
   "outputs": [
    {
     "ename": "NameError",
     "evalue": "name 'right' is not defined",
     "output_type": "error",
     "traceback": [
      "\u001b[0;31m---------------------------------------------------------------------------\u001b[0m",
      "\u001b[0;31mNameError\u001b[0m                                 Traceback (most recent call last)",
      "Cell \u001b[0;32mIn[14], line 1\u001b[0m\n\u001b[0;32m----> 1\u001b[0m \u001b[43mright\u001b[49m\u001b[38;5;241m.\u001b[39mplay()\n\u001b[1;32m      2\u001b[0m right\u001b[38;5;241m.\u001b[39mwaveform()\n\u001b[1;32m      3\u001b[0m right\u001b[38;5;241m.\u001b[39mwrite(\u001b[38;5;124m\"\u001b[39m\u001b[38;5;124mRight_WhiteNoise_30.wav\u001b[39m\u001b[38;5;124m\"\u001b[39m)\n",
      "\u001b[0;31mNameError\u001b[0m: name 'right' is not defined"
     ]
    }
   ],
   "source": [
    "right.play()\n",
    "right.waveform()\n",
    "right.write(\"Right_WhiteNoise_30.wav\")\n",
    "\n"
   ]
  },
  {
   "cell_type": "code",
   "execution_count": 12,
   "metadata": {},
   "outputs": [
    {
     "ename": "NameError",
     "evalue": "name 'left' is not defined",
     "output_type": "error",
     "traceback": [
      "\u001b[0;31m---------------------------------------------------------------------------\u001b[0m",
      "\u001b[0;31mNameError\u001b[0m                                 Traceback (most recent call last)",
      "Cell \u001b[0;32mIn[12], line 1\u001b[0m\n\u001b[0;32m----> 1\u001b[0m \u001b[43mleft\u001b[49m\u001b[38;5;241m.\u001b[39mplay()\n\u001b[1;32m      2\u001b[0m left\u001b[38;5;241m.\u001b[39mwaveform()\n\u001b[1;32m      3\u001b[0m left\u001b[38;5;241m.\u001b[39mwrite(\u001b[38;5;124m\"\u001b[39m\u001b[38;5;124mLeft_WhiteNoise_30.wav\u001b[39m\u001b[38;5;124m\"\u001b[39m)\n",
      "\u001b[0;31mNameError\u001b[0m: name 'left' is not defined"
     ]
    }
   ],
   "source": [
    "left.play()\n",
    "left.waveform()\n",
    "left.write(\"Left_WhiteNoise_30.wav\")\n",
    "\n"
   ]
  },
  {
   "cell_type": "code",
   "execution_count": 7,
   "metadata": {},
   "outputs": [],
   "source": [
    "sound = slab.Binaural.tone(frequency = 700, duration = 0.5)\n",
    "\n",
    "sound_left, sound_right = get_angled_sound(90, sound, False, 700)\n"
   ]
  },
  {
   "cell_type": "code",
   "execution_count": 8,
   "metadata": {},
   "outputs": [],
   "source": [
    "sound_left.waveform()"
   ]
  },
  {
   "cell_type": "code",
   "execution_count": 19,
   "metadata": {},
   "outputs": [],
   "source": [
    "sound_left.play()\n",
    "sound_left.waveform()\n",
    "sound_left.write(\"Left_PureTones_90.wav\")\n",
    "\n"
   ]
  },
  {
   "cell_type": "code",
   "execution_count": 21,
   "metadata": {},
   "outputs": [],
   "source": [
    "sound_right.play\n",
    "sound_right.waveform()\n",
    "sound_right.write(\"Right_PureTones_90.wav\")\n",
    "\n"
   ]
  },
  {
   "cell_type": "code",
   "execution_count": null,
   "metadata": {},
   "outputs": [],
   "source": [
    "sound= slab.Binaural.tone(frequency = 700, duration= 0.5)\n",
    "\n",
    "sound_left,sound_right= get_angled_sound(30, sound, False, 700)\n"
   ]
  },
  {
   "cell_type": "code",
   "execution_count": 27,
   "metadata": {},
   "outputs": [],
   "source": [
    "sound_left.play()\n",
    "sound_left.waveform()\n",
    "sound_left.write(\"Left_PureTones_30.wav\")"
   ]
  },
  {
   "cell_type": "code",
   "execution_count": 26,
   "metadata": {},
   "outputs": [],
   "source": [
    "sound_right.play()\n",
    "sound_right.waveform()\n",
    "sound_right.write(\"Right_PureTones_30.wav\")\n"
   ]
  }
 ],
 "metadata": {
  "kernelspec": {
   "display_name": "mne-analysis-z8iMwbay",
   "language": "python",
   "name": "python3"
  },
  "language_info": {
   "codemirror_mode": {
    "name": "ipython",
    "version": 3
   },
   "file_extension": ".py",
   "mimetype": "text/x-python",
   "name": "python",
   "nbconvert_exporter": "python",
   "pygments_lexer": "ipython3",
   "version": "3.12.4"
  }
 },
 "nbformat": 4,
 "nbformat_minor": 2
}
