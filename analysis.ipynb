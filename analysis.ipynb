{
 "cells": [
  {
   "cell_type": "code",
   "execution_count": 7,
   "metadata": {},
   "outputs": [],
   "source": [
    "import pandas as pd\n",
    "\n",
    "def calculate_accuracy(data):\n",
    "    # Define correct response mapping\n",
    "    correct_responses = {\n",
    "        (90, 'Left'): 'z',\n",
    "        (30, 'Left'): 'x',\n",
    "        (0, 'Center'): 'c',\n",
    "        (30, 'Right'): 'v',\n",
    "        (90, 'Right'): 'b'\n",
    "    }\n",
    "    \n",
    "    # Filter necessary columns and drop NaNs\n",
    "    data_filtered = data[['Angle', 'Channel', 'pretest_response.keys', 'sound_file_name']].dropna()\n",
    "    data_filtered['Angle'] = data_filtered['Angle'].astype(int)\n",
    "    \n",
    "    # Determine correct response based on angle and channel\n",
    "    data_filtered['Correct_Response'] = data_filtered.apply(\n",
    "        lambda row: correct_responses.get((row['Angle'], row['Channel']), None), axis=1)\n",
    "    \n",
    "    # Compare participant response to correct response\n",
    "    data_filtered['Accuracy'] = data_filtered['pretest_response.keys'] == data_filtered['Correct_Response']\n",
    "    \n",
    "    # Calculate overall accuracy\n",
    "    overall_accuracy = data_filtered['Accuracy'].mean()\n",
    "    \n",
    "    # Calculate accuracy for each sound type (white noise and pure tones)\n",
    "    sound_accuracies = data_filtered.groupby(\n",
    "        data_filtered['sound_file_name'].str.contains('white').map({True: 'White Noise', False: 'Pure Tone'})\n",
    "    )['Accuracy'].mean()\n",
    "    \n",
    "    return overall_accuracy, sound_accuracies"
   ]
  },
  {
   "cell_type": "code",
   "execution_count": 11,
   "metadata": {},
   "outputs": [
    {
     "name": "stdout",
     "output_type": "stream",
     "text": [
      "Overall Accuracy: 0.3333333333333333\n",
      "Accuracy by Sound Type:\n",
      "sound_file_name\n",
      "Pure Tone      0.308333\n",
      "White Noise    0.358333\n",
      "Name: Accuracy, dtype: float64\n"
     ]
    }
   ],
   "source": [
    "# Load your data\n",
    "file_path = 'data/shivam_experiment_2024-11-17_14h42.43.532.csv'  # Replace with your actual file path\n",
    "data = pd.read_csv(file_path)\n",
    "\n",
    "# Calculate and display accuracy\n",
    "overall_accuracy, sound_accuracies = calculate_accuracy(data)\n",
    "print(\"Overall Accuracy:\", overall_accuracy)\n",
    "print(\"Accuracy by Sound Type:\")\n",
    "print(sound_accuracies)"
   ]
  }
 ],
 "metadata": {
  "kernelspec": {
   "display_name": "mne-analysis-z8iMwbay",
   "language": "python",
   "name": "python3"
  },
  "language_info": {
   "codemirror_mode": {
    "name": "ipython",
    "version": 3
   },
   "file_extension": ".py",
   "mimetype": "text/x-python",
   "name": "python",
   "nbconvert_exporter": "python",
   "pygments_lexer": "ipython3",
   "version": "3.12.4"
  }
 },
 "nbformat": 4,
 "nbformat_minor": 2
}
